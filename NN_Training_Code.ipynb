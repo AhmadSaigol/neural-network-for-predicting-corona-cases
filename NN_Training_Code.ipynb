{
  "nbformat": 4,
  "nbformat_minor": 0,
  "metadata": {
    "colab": {
      "name": "NN_Training_Code.ipynb",
      "provenance": []
    },
    "kernelspec": {
      "name": "python3",
      "display_name": "Python 3"
    }
  },
  "cells": [
    {
      "cell_type": "markdown",
      "metadata": {
        "id": "NBO6aUjCmvLS"
      },
      "source": [
        "# **Importing Libraries**"
      ]
    },
    {
      "cell_type": "code",
      "metadata": {
        "id": "oj41CU54mzIX"
      },
      "source": [
        "import pandas as pd\r\n",
        "import numpy as np\r\n",
        "import sys\r\n",
        "from matplotlib import pyplot as plt\r\n",
        "%matplotlib inline"
      ],
      "execution_count": 1,
      "outputs": []
    },
    {
      "cell_type": "markdown",
      "metadata": {
        "id": "JHdOXg5jm2Ln"
      },
      "source": [
        "# **Dataset**"
      ]
    },
    {
      "cell_type": "markdown",
      "metadata": {
        "id": "5_dSI-VpVeQv"
      },
      "source": [
        "This class reads the data from .csv file, scales and splits the dataset depending upon the function that is called on the class object."
      ]
    },
    {
      "cell_type": "markdown",
      "metadata": {
        "id": "1VbdcJpGWBy1"
      },
      "source": [
        "Scaling:\r\n",
        "\r\n",
        "\r\n",
        "*   No scaling performed if scale_dataset is not called on the class object.\r\n",
        "*   If scale_dataset is called on the class object, then two type of scaling can be performed:\r\n",
        "\r\n",
        "\r\n",
        "1.   Between 0 and 1 (st=True)\r\n",
        "2.   Between -1 and 1 (st=False)\r\n",
        "\r\n",
        "\r\n",
        "\r\n",
        "\r\n",
        "\r\n",
        "\r\n",
        "\r\n",
        "\r\n",
        "\r\n"
      ]
    },
    {
      "cell_type": "markdown",
      "metadata": {
        "id": "MmiE6XI_XAyq"
      },
      "source": [
        "Splitting Ratio:\r\n",
        "\r\n",
        "*   Training Set: 60%\r\n",
        "*   Validation Set: 20%\r\n",
        "*   Testing Set: 20%\r\n",
        "\r\n",
        "Note: If spilt_data is not called on the class object, no spliting of the data will take place."
      ]
    },
    {
      "cell_type": "markdown",
      "metadata": {
        "id": "1kjtF7pxZ6gT"
      },
      "source": [
        "## *Class Dataset*"
      ]
    },
    {
      "cell_type": "code",
      "metadata": {
        "id": "NaDhyjG4m5-m"
      },
      "source": [
        "class Dataset:\r\n",
        "  \r\n",
        "  #constructor\r\n",
        "  def __init__(self,dir,remove_cols=[]): \r\n",
        "    \r\n",
        "    # args: \r\n",
        "    # dir = (str)directory to dataset with last column as target values \r\n",
        "    # remove_cols = (list) name of columns which are not to be added in the dataset as list\r\n",
        "\r\n",
        "    #read data file\r\n",
        "    self.data=pd.read_csv(dir)\r\n",
        "    \r\n",
        "    #remove columns if not required in the features\r\n",
        "    self.remove_cols = remove_cols # for saving in the file as metadata\r\n",
        "    if remove_cols:\r\n",
        "      self.data=self.data.drop(remove_cols, axis=1)\r\n",
        "\r\n",
        "    #select all feature names (except target values)\r\n",
        "    self.features= self.data.columns[0:-1]\r\n",
        "    \r\n",
        "    #store the target name \r\n",
        "    self.target=self.data.columns[-1] \r\n",
        "\r\n",
        "    #Variables used while scaling the dataset\r\n",
        "    #default values have been provided as these will be saved as metadata in the file\r\n",
        "    self.scale=False \r\n",
        "    self.scale_type=None\r\n",
        "    self.min=None\r\n",
        "    self.max=None \r\n",
        "  \r\n",
        "  \r\n",
        "  def scale_dataset(self,st):\r\n",
        "\r\n",
        "    #this function carries out scaling of the features\r\n",
        "    #it can either be between 0 and 1 or between -1 and 1 \r\n",
        "    #set st=True for [0,1] and st=False for [-1,1]  \r\n",
        "    \r\n",
        "    self.scale=True\r\n",
        "    self.scale_type=st\r\n",
        "\r\n",
        "    self.min=self.data[self.features].min()\r\n",
        "    self.max=self.data[self.features].max()\r\n",
        "\r\n",
        "    if st:\r\n",
        "      self.data[self.features] = self.data[self.features].apply(lambda x: (x-self.min)/(self.max-self.min), axis=1)\r\n",
        "    else:\r\n",
        "      self.data[self.features] = self.data[self.features].apply(lambda x: 2*((x-self.min)/(self.max-self.min))-1, axis=1)\r\n",
        "     \r\n",
        "\r\n",
        "  def split_data(self,train=False, test=False, valid=False):\r\n",
        "\r\n",
        "    # this fucntion carries out the splitting of data into train, test, and validation datasets\r\n",
        "    # depending upon which arg is set True.\r\n",
        "    # Splitting ratio: 60% for  train, 20% for test, 20% for validation \r\n",
        "    # Only one arg should be set true when calling this function\r\n",
        "    # otherwise the dataset of the arg which is in first in arg list will be returned.\r\n",
        "\r\n",
        "    #random_state set for reproducibility\r\n",
        "    train_data, test_data, valid_data = np.split(self.data.sample(frac=1, random_state=42), [int(0.6*len(self.data)), int(0.8*len(self.data))])\r\n",
        "\r\n",
        "    if train:\r\n",
        "      return (train_data[self.features].to_numpy(), train_data[self.target].to_numpy().reshape(-1,1))\r\n",
        "    if test:\r\n",
        "      return (test_data[self.features].to_numpy(), test_data[self.target].to_numpy().reshape(-1,1))\r\n",
        "    if valid:\r\n",
        "      return (valid_data[self.features].to_numpy(), valid_data[self.target].to_numpy().reshape(-1,1))\r\n",
        "\r\n"
      ],
      "execution_count": 2,
      "outputs": []
    },
    {
      "cell_type": "markdown",
      "metadata": {
        "id": "-TXg8rn63CVL"
      },
      "source": [
        "## *Worldwide Dataset*"
      ]
    },
    {
      "cell_type": "code",
      "metadata": {
        "colab": {
          "base_uri": "https://localhost:8080/"
        },
        "id": "OQlDKshioE03",
        "outputId": "ce9a5c84-96b9-4287-d60c-f5e3dfee7230"
      },
      "source": [
        "#path to dataset \r\n",
        "dir_world ='/content/World_Data_Transformed.csv'\r\n",
        "\r\n",
        "#                                 remove these features from the dataset\r\n",
        "dataset_world = Dataset(dir=dir_world, remove_cols=['location', 'dates']) \r\n",
        "\r\n",
        "#print first five entries of dataset\r\n",
        "print(dataset_world.data.head())\r\n",
        "\r\n",
        "#Scale dataset\r\n",
        "dataset_world.scale_dataset(st=True)\r\n",
        "#dataset_world.scale_dataset(st=False)\r\n",
        "\r\n",
        "\r\n",
        "#Training Data\r\n",
        "train_data_world = dataset_world.split_data(train=True)\r\n",
        "print(f'Shape of Training data : X = {train_data_world[0].shape} Y = {train_data_world[1].shape}')\r\n",
        "\r\n",
        "#Validation Data\r\n",
        "valid_data_world = dataset_world.split_data(valid=True)\r\n",
        "print(f'Shape of Validation data : X = {valid_data_world[0].shape} Y = {valid_data_world[1].shape}')\r\n",
        "\r\n",
        "#Testing Data\r\n",
        "test_data_world = dataset_world.split_data(test=True)\r\n",
        "print(f'Shape of Testing data : X = {test_data_world[0].shape} Y = {test_data_world[1].shape}')"
      ],
      "execution_count": 3,
      "outputs": [
        {
          "output_type": "stream",
          "text": [
            "   month  new_cases_per_million  new_deaths  new_deaths_per_million  new_cases\n",
            "0      1                   0.00           0                     0.0          0\n",
            "1      1                   0.01           1                     0.0         99\n",
            "2      1                   0.04           8                     0.0        287\n",
            "3      1                   0.06          16                     0.0        493\n",
            "4      1                   0.09          14                     0.0        684\n",
            "Shape of Training data : X = (205, 4) Y = (205, 1)\n",
            "Shape of Validation data : X = (69, 4) Y = (69, 1)\n",
            "Shape of Testing data : X = (68, 4) Y = (68, 1)\n"
          ],
          "name": "stdout"
        }
      ]
    },
    {
      "cell_type": "markdown",
      "metadata": {
        "id": "MQLWfhtD6cJ2"
      },
      "source": [
        "## *US Dataset*"
      ]
    },
    {
      "cell_type": "code",
      "metadata": {
        "colab": {
          "base_uri": "https://localhost:8080/"
        },
        "id": "LCIeIS3DoMOy",
        "outputId": "47c50201-122d-41b4-97e8-13e90436d6c5"
      },
      "source": [
        "#path to dataset\r\n",
        "dir_US = '/content/US_Data_Transformed.csv'\r\n",
        "\r\n",
        "#                            remove these features from the dataset\r\n",
        "dataset_US=Dataset(dir=dir_US, remove_cols=['State'])\r\n",
        "\r\n",
        "#print first five entries of dataset\r\n",
        "print(dataset_US.data.head())\r\n",
        "\r\n",
        "#Scale dataset\r\n",
        "dataset_US.scale_dataset(st=True)\r\n",
        "#dataset_world.scale_dataset(st=False)\r\n",
        "\r\n",
        "#Training Data\r\n",
        "train_data_US=dataset_US.split_data(train=True)\r\n",
        "print(f'Shape of Training data : X = {train_data_US[0].shape} Y = {train_data_US[1].shape}')\r\n",
        "\r\n",
        "#Validation Data\r\n",
        "valid_data_US=dataset_US.split_data(valid=True)\r\n",
        "print(f'Shape of Validation data : X = {valid_data_US[0].shape} Y = {valid_data_US[1].shape}')\r\n",
        "\r\n",
        "#Testing Data\r\n",
        "test_data_US=dataset_US.split_data(test=True)\r\n",
        "print(f'Shape of Testing data : X = {test_data_US[0].shape} Y = {test_data_US[1].shape}')"
      ],
      "execution_count": 4,
      "outputs": [
        {
          "output_type": "stream",
          "text": [
            "   Month    Lat  Long_  Incident_Rate  New_tests_per_month  New_cases_per_month\n",
            "0      4  32.32  -86.9         115.95                65613                 3520\n",
            "1      5  32.32  -86.9         248.18               130357                11013\n",
            "2      6  32.32  -86.9         544.12               189099                20277\n",
            "3      7  32.32  -86.9        1262.07               282815                49789\n",
            "4      8  32.32  -86.9        2207.82               295820                38234\n",
            "Shape of Training data : X = (210, 5) Y = (210, 1)\n",
            "Shape of Validation data : X = (70, 5) Y = (70, 1)\n",
            "Shape of Testing data : X = (70, 5) Y = (70, 1)\n"
          ],
          "name": "stdout"
        }
      ]
    },
    {
      "cell_type": "markdown",
      "metadata": {
        "id": "n2yNHYpInPIK"
      },
      "source": [
        "# **Neural Network**"
      ]
    },
    {
      "cell_type": "code",
      "metadata": {
        "id": "xjGfjC7InaG4"
      },
      "source": [
        "class Network:\r\n",
        "\r\n",
        "  #constructor\r\n",
        "  def __init__(self, hidden_units, activation_fnt, train_data, valid_data):\r\n",
        "    \r\n",
        "    #args: \r\n",
        "    #     hidden units: (list) it include both number of hidden layers and number of units in each hidden layer as list\r\n",
        "    # e.g. for a network with two hidden layers, first hidden layer has 3 units and second hidden layer has 2 units\r\n",
        "    # hidden_units=[3, 2]\r\n",
        "    #\r\n",
        "    #     activation_fnt: (str) which will be applied to the hidden layers\r\n",
        "    # its value can either be 'Sigmoid' or 'ReLU' \r\n",
        "    #\r\n",
        "    #     train_data: (tuple) containing both X and Y as tuple e.g. (X_train, Y_train)\r\n",
        "    #     valid_data: (tuple) containing both X and Y as tuple e.g. (X_valid, Y_valid)\r\n",
        "\r\n",
        "    #dictionary for storing layers of the network\r\n",
        "    self.network={}\r\n",
        "\r\n",
        "    #destruct training data tuple to X, Y\r\n",
        "    self.train_X=train_data[0]\r\n",
        "    self.train_Y=train_data[1]\r\n",
        "\r\n",
        "    #destruct validation data tuple to X, Y\r\n",
        "    self.valid_X=valid_data[0]\r\n",
        "    self.valid_Y=valid_data[1]\r\n",
        "\r\n",
        "    self.hidden_units=hidden_units\r\n",
        "    self.no_of_layers = len(hidden_units) + 2\r\n",
        "\r\n",
        "\r\n",
        "    self.activation_fnt=activation_fnt #for saving in the file\r\n",
        "\r\n",
        "    #Select appropriate activation function and its derivative\r\n",
        "    if activation_fnt=='Sigmoid':\r\n",
        "      self.ActivationFnt=self.SigmoidFnt\r\n",
        "      self.LocalGrad=self.SigmoidDerivative\r\n",
        "\r\n",
        "    elif activation_fnt=='ReLU':\r\n",
        "      self.ActivationFnt=self.ReLU\r\n",
        "      self.LocalGrad=self.ReLUDerivative\r\n",
        "\r\n",
        "    else: \r\n",
        "      sys.exit(f'Please specify activation function again. It can either be Sigmoid or RelU (in single quotes)') #exit if no\r\n",
        "\r\n",
        "\r\n",
        "  #Add bias to the activations as column vector\r\n",
        "  def AddBias(self, X):\r\n",
        "    return np.c_[ np.ones(X.shape[0]), X]\r\n",
        "\r\n",
        "\r\n",
        "  #Apply linear function\r\n",
        "  def LinearFnt(self, X, theta):\r\n",
        "    return np.dot(X, theta)\r\n",
        "\r\n",
        "\r\n",
        "  #Apply Sigmoid function\r\n",
        "  def SigmoidFnt(self, Z):\r\n",
        "    return 1/(1+(np.exp(-Z)))\r\n",
        "\r\n",
        "\r\n",
        "  #Calculate Derivative of Sigmoid function\r\n",
        "  def SigmoidDerivative (self, A):\r\n",
        "    return np.multiply(A, (1-A))\r\n",
        "\r\n",
        "\r\n",
        "  #Apply ReLU\r\n",
        "  def ReLU(self, Z):\r\n",
        "    return np.maximum(0, Z)\r\n",
        "  \r\n",
        "  \r\n",
        "  #Calculate Derivative of ReLU function\r\n",
        "  def ReLUDerivative (self, A):\r\n",
        "    return 1 * (A > 0)\r\n",
        "  \r\n",
        "\r\n",
        "  #Calculate Global Gradient\r\n",
        "  def GlobalGrad(self, lower_delta, theta):\r\n",
        "    return self.LinearFnt(lower_delta, np.transpose(theta))\r\n",
        "\r\n",
        "  \r\n",
        "  #Calculate Partial Derivatives\r\n",
        "  def Derivatives(self, m, upper_delta, lmbda, theta): # m = no of examples\r\n",
        "    lmbda = np.full(theta.shape ,fill_value = lmbda) # regularization parameter\r\n",
        "    lmbda[0]=0 #No Regularization term for bias\r\n",
        "    return ((upper_delta/m)+(np.multiply((lmbda/m), theta)))\r\n",
        "\r\n",
        "\r\n",
        "  #Calculate Mean Squared Error (cost function)\r\n",
        "  def MSE(self, y_pred, y):\r\n",
        "    #args:\r\n",
        "    #     y_pred = predicated output\r\n",
        "    #     y = actual output\r\n",
        "\r\n",
        "    return ((np.sum(np.square(y_pred - y)))/(2*y_pred.shape[0]))\r\n",
        "\r\n",
        "\r\n",
        "  #Update the Thetas(weights) of each layer\r\n",
        "  def update_weights(self, lr): #lr=learning rate\r\n",
        "    for i in range(1, self.no_of_layers, 1):\r\n",
        "      layer=f'layer{i}'\r\n",
        "      self.network[layer]['thetas']=self.network[layer]['thetas']-(lr*self.network[layer]['derivatives'])\r\n",
        "\r\n",
        "\r\n",
        "  #Randomly initialize weights for each layer with dimensions: m x n\r\n",
        "  # m = no of units in previous layer (including bias)\r\n",
        "  # n = no of units in next layer\r\n",
        "  def randomly_init_weights (self):\r\n",
        "\r\n",
        "    #determine the shape of the theta\r\n",
        "    for i in range(1, self.no_of_layers, 1):\r\n",
        "\r\n",
        "      if i==1: #input layer to first hidden layer\r\n",
        "        theta_shape=(self.train_X.shape[1]+1, self.hidden_units[0])\r\n",
        "      \r\n",
        "      elif i == self.no_of_layers - 1: #last hidden layer to output layer\r\n",
        "        theta_shape = (self.hidden_units[i-2]+1, self.train_Y.shape[1])\r\n",
        "      \r\n",
        "      else: #hidden layer to hidden layer\r\n",
        "        theta_shape = (self.hidden_units[i-2]+1, self.hidden_units[i-1])\r\n",
        "      \r\n",
        "      #dictionary for storing data associated with each layer\r\n",
        "      self.network[f'layer{i}']={}\r\n",
        "      \r\n",
        "      #randomly initialize weights in range [0, 1]\r\n",
        "      self.network[f'layer{i}']['thetas']= np.random.uniform(0, 1, size=theta_shape)#*2*e)-e \r\n",
        "\r\n",
        "      \r\n",
        "  \r\n",
        "  #Perform Forward Propagation\r\n",
        "  def forward_propagate(self, X):\r\n",
        "    #args:\r\n",
        "    #     X = inputs\r\n",
        "    #        (numpy array of dim m X n)\r\n",
        "    #        m = no of examples\r\n",
        "    #        n = no of features\r\n",
        "\r\n",
        "    #starting from input layer to output layer (included)\r\n",
        "    for i in range(1, self.no_of_layers+1, 1): \r\n",
        "      \r\n",
        "      layer = f'layer{i}' #current layer\r\n",
        "      prev_layer=f'layer{i-1}' #previous layer\r\n",
        "      \r\n",
        "      #set activations of first layer equal to inputs\r\n",
        "      if i==1:\r\n",
        "        self.network[layer]['activations'] = X\r\n",
        "\r\n",
        "      else:\r\n",
        "\r\n",
        "        #Add bias term to the activations\r\n",
        "        self.network[prev_layer]['activations']=self.AddBias(self.network[prev_layer]['activations'])\r\n",
        "        \r\n",
        "        #Calculate z's\r\n",
        "        z=self.LinearFnt(self.network[prev_layer]['activations'], self.network[prev_layer]['thetas'])\r\n",
        "\r\n",
        "        #Calculate a's by applying activation function except for last layer (output layer)\r\n",
        "        if i==self.no_of_layers:\r\n",
        "          self.network[layer]={} #for output layer\r\n",
        "          self.network[layer]['pred_outputs'] = z # no activation function\r\n",
        "\r\n",
        "        else:\r\n",
        "          self.network[layer]['activations'] = self.ActivationFnt(z) \r\n",
        "  \r\n",
        "  \r\n",
        "  #Perform Back Propagation\r\n",
        "  def back_propagate(self, Y_actual, lmbda):\r\n",
        "\r\n",
        "      #starting from output layer to input layer (not included)\r\n",
        "      for i in  range(self.no_of_layers, 1, -1): \r\n",
        "        \r\n",
        "        layer = f'layer{i}' #current layer\r\n",
        "        prev_layer=f'layer{i-1}' #previous layer\r\n",
        "\r\n",
        "        if i==self.no_of_layers: #for output layer\r\n",
        "          \r\n",
        "          #calculate lower delta of this layer\r\n",
        "          lower_delta = self.network[layer]['pred_outputs'] - Y_actual\r\n",
        "\r\n",
        "          #calculate upper delta of previous layer\r\n",
        "          upper_delta = self.LinearFnt(np.transpose(self.network[prev_layer]['activations']), lower_delta) #of second last layer\r\n",
        "\r\n",
        "          #calculate partial derivatives of previous layer\r\n",
        "          self.network[prev_layer]['derivatives']=self.Derivatives(Y_actual.shape[0], upper_delta, lmbda, self.network[prev_layer]['thetas'] )\r\n",
        "\r\n",
        "        \r\n",
        "        else: #for all other layers\r\n",
        "\r\n",
        "          #calculate global gradient of this layer using lower delta of next layer\r\n",
        "          global_Grad = self.GlobalGrad(lower_delta, self.network[layer]['thetas'])\r\n",
        "\r\n",
        "          #calculate local gradient of this layer using activations of this layer\r\n",
        "          local_Grad = self.LocalGrad(self.network[layer]['activations'] ) \r\n",
        "\r\n",
        "          #calculate lower delta of this layer\r\n",
        "          lower_delta = np.multiply(global_Grad, local_Grad)[:, 1:] #removing the deltas of the bias terms\r\n",
        "\r\n",
        "          #calculate upper delta of previous layer\r\n",
        "          upper_delta = self.LinearFnt(np.transpose(self.network[prev_layer]['activations']), lower_delta)\r\n",
        "\r\n",
        "          #calculate partial derivatives of previous layer\r\n",
        "          self.network[prev_layer]['derivatives']=self.Derivatives(Y_actual.shape[0], upper_delta, lmbda, self.network[prev_layer]['thetas'] )\r\n",
        "\r\n",
        "\r\n",
        "\r\n",
        "  #Perform Numerical Estimation of gradients\r\n",
        "  def gradient_check(self, X, Y):\r\n",
        "    \r\n",
        "    #dictionary for storing thetas and derivatives (original, calculated, difference percentage) of each layer\r\n",
        "    grad_network={}\r\n",
        "    \r\n",
        "    output_layer = f'layer{self.no_of_layers}'\r\n",
        "\r\n",
        "    #for each layer in the original network\r\n",
        "    for layer in self.network:\r\n",
        "\r\n",
        "      # no derivative is associated with output layer\r\n",
        "      if layer != output_layer:\r\n",
        "        \r\n",
        "        grad_network[layer]={}\r\n",
        "\r\n",
        "        # reading original thetas\r\n",
        "        grad_network[layer]['thetas_ori'] = self.network[layer]['thetas']\r\n",
        "\r\n",
        "        #reading original derivatives for comparsion\r\n",
        "        grad_network[layer]['deriv_ori'] = self.network[layer]['derivatives']\r\n",
        "\r\n",
        "        size = grad_network[layer]['thetas_ori'].shape\r\n",
        "\r\n",
        "        #for storing newly calcuated derviative for each weight\r\n",
        "        deriv_cal = np.zeros(size)\r\n",
        "\r\n",
        "        #for each theta in this layer of the network\r\n",
        "        for i in range(0, size[0] ,1):\r\n",
        "          for j in range(0, size[1] ,1):\r\n",
        "\r\n",
        "            #small value which is added to each theta\r\n",
        "            epsilon = np.zeros(size)\r\n",
        "            epsilon[i,j] = 0.00001\r\n",
        "\r\n",
        "            cost=[] #for storing the newly calculated cost\r\n",
        "\r\n",
        "            #in first iteration add the epsilon value and calculate cost\r\n",
        "            #in second iteartion subtract the epsilon value and calculate cost\r\n",
        "            for k in range (0, 2, 1):\r\n",
        "\r\n",
        "              #replace theta values in the orignal network with new theta values \r\n",
        "              if k==0:  \r\n",
        "                self.network[layer]['thetas']=grad_network[layer]['thetas_ori'] + epsilon\r\n",
        "                \r\n",
        "              else:\r\n",
        "                self.network[layer]['thetas']=grad_network[layer]['thetas_ori'] - epsilon\r\n",
        "\r\n",
        "              #calculate new predicted outputs\r\n",
        "              self.forward_propagate(X)\r\n",
        "\r\n",
        "              #calculate and store cost for theta+e and theta-e\r\n",
        "              cost.append(self.MSE(self.network[output_layer]['pred_outputs'], Y))\r\n",
        "            \r\n",
        "            #calculate derivative and store it to the corresponding index\r\n",
        "            deriv_cal[i,j]=(cost[0]-cost[1])/(2*e)\r\n",
        "        \r\n",
        "        #store and calculate percentage difference between original derviative and numerically computed derivatives\r\n",
        "        grad_network[layer]['deriv_cal']=deriv_cal\r\n",
        "        grad_network[layer]['deriv_diff_percentage']=np.abs(grad_network[layer]['deriv_cal'] - grad_network[layer]['deriv_ori'])*100\r\n",
        "\r\n",
        "    #print the network for verification of derivative calculation\r\n",
        "    for p in grad_network:\r\n",
        "      print(f'{p}\\n')\r\n",
        "      for o in grad_network[p]:\r\n",
        "        print(f'{o}:\\n {grad_network[p][o]}\\n')\r\n",
        "       \r\n",
        "\r\n",
        "\r\n",
        "  #train the neural network\r\n",
        "  def train(self, batch_size, epochs, lr, lmbda):\r\n",
        "\r\n",
        "    #args: \r\n",
        "    #      batch_size = (int) no of examples after which weights will be updated\r\n",
        "    #      epochs = (int) no of times complete dataset needs to be passed through the neural network during training\r\n",
        "    #      lr = (float/int) learning rate \r\n",
        "    #      lmbda = (float/int) regularization parameter\r\n",
        "\r\n",
        "    output_layer=f'layer{self.no_of_layers}'\r\n",
        "\r\n",
        "    #temporary lists for storing the cost values in each iteration  \r\n",
        "    train_cost_iter=[]\r\n",
        "    valid_cost_iter=[]\r\n",
        "\r\n",
        "    self.randomly_init_weights()\r\n",
        "\r\n",
        "    for epoch in range(epochs):\r\n",
        "\r\n",
        "      for b in range (0, self.train_X.shape[0], batch_size): \r\n",
        "        \r\n",
        "        #For Training\r\n",
        "\r\n",
        "        batch=slice(b, b + batch_size) \r\n",
        "        \r\n",
        "        self.forward_propagate(self.train_X[batch])\r\n",
        "        \r\n",
        "        #calculate and store training cost\r\n",
        "        train_cost_iter.append(self.MSE(self.network[output_layer]['pred_outputs'], self.train_Y[batch]))\r\n",
        "\r\n",
        "        self.back_propagate(self.train_Y[batch], lmbda)\r\n",
        "\r\n",
        "        self.update_weights(lr)\r\n",
        "\r\n",
        "        #For Validation\r\n",
        "\r\n",
        "        self.forward_propagate(self.valid_X)\r\n",
        "\r\n",
        "        #calculate and store validation cost\r\n",
        "        valid_cost_iter.append(self.MSE(self.network[output_layer]['pred_outputs'], self.valid_Y))\r\n",
        "\r\n",
        "    return train_cost_iter, valid_cost_iter\r\n",
        "\r\n"
      ],
      "execution_count": 5,
      "outputs": []
    },
    {
      "cell_type": "markdown",
      "metadata": {
        "id": "H4Ax9eMfoQPe"
      },
      "source": [
        "# **Model**"
      ]
    },
    {
      "cell_type": "markdown",
      "metadata": {
        "id": "XvPfIEsRITFn"
      },
      "source": [
        "## *Worldwide*"
      ]
    },
    {
      "cell_type": "code",
      "metadata": {
        "id": "s-vQdkR9IZWW"
      },
      "source": [
        "hidden_units_world = [6,4,3,2]\r\n",
        "activation_function_world = 'Sigmoid'\r\n",
        "#activation_function_world = 'ReLU'"
      ],
      "execution_count": 6,
      "outputs": []
    },
    {
      "cell_type": "code",
      "metadata": {
        "id": "PfH0Sp7IoU8o"
      },
      "source": [
        "model_world = Network(hidden_units_world,activation_function_world, train_data_world, valid_data_world)"
      ],
      "execution_count": 7,
      "outputs": []
    },
    {
      "cell_type": "markdown",
      "metadata": {
        "id": "54mF28hAI-FD"
      },
      "source": [
        "## *US*"
      ]
    },
    {
      "cell_type": "code",
      "metadata": {
        "id": "HjRL_0VoI_WN"
      },
      "source": [
        "hidden_units_US = [3,5]\r\n",
        "activation_function_US = 'Sigmoid'\r\n",
        "#activation_function_US = 'ReLU'"
      ],
      "execution_count": 8,
      "outputs": []
    },
    {
      "cell_type": "code",
      "metadata": {
        "id": "Nd_UvxCRI_nF"
      },
      "source": [
        "model_US = Network(hidden_units_US,activation_function_US, train_data_US, valid_data_US)"
      ],
      "execution_count": 9,
      "outputs": []
    },
    {
      "cell_type": "markdown",
      "metadata": {
        "id": "xPOg2hYynr1j"
      },
      "source": [
        "# **Training**"
      ]
    },
    {
      "cell_type": "markdown",
      "metadata": {
        "id": "UHu8f6GpJWzd"
      },
      "source": [
        "## *Worldwide*"
      ]
    },
    {
      "cell_type": "code",
      "metadata": {
        "id": "ykLisqzVJYxF"
      },
      "source": [
        "#setting up hyperparameters\r\n",
        "batch_size_world = 50\r\n",
        "epochs_world = 10\r\n",
        "lr_world = 0.01\r\n",
        "lmbda_world = 0.2"
      ],
      "execution_count": 10,
      "outputs": []
    },
    {
      "cell_type": "code",
      "metadata": {
        "id": "lX07ks_foTtR"
      },
      "source": [
        "train_cost_iter_world, valid_cost_iter_world = model_world.train(batch_size_world, epochs_world, lr_world, lmbda_world )"
      ],
      "execution_count": 11,
      "outputs": []
    },
    {
      "cell_type": "markdown",
      "metadata": {
        "id": "nDMOFRAHK60v"
      },
      "source": [
        "## *US*"
      ]
    },
    {
      "cell_type": "code",
      "metadata": {
        "id": "uMVz1ccnn7eY"
      },
      "source": [
        "#setting up hyperparameters\r\n",
        "batch_size_US = 50\r\n",
        "epochs_US = 20\r\n",
        "lr_US = 0.01\r\n",
        "lmbda_US = 0.1"
      ],
      "execution_count": 12,
      "outputs": []
    },
    {
      "cell_type": "code",
      "metadata": {
        "id": "-0zo4PnvLF3D"
      },
      "source": [
        "train_cost_iter_US, valid_cost_iter_US = model_US.train(batch_size_US, epochs_US, lr_US, lmbda_US )"
      ],
      "execution_count": 13,
      "outputs": []
    },
    {
      "cell_type": "markdown",
      "metadata": {
        "id": "j_iBeO3Boc7a"
      },
      "source": [
        "# **Plotting**"
      ]
    },
    {
      "cell_type": "markdown",
      "metadata": {
        "id": "HgS4wvznaPOI"
      },
      "source": [
        "## *Plotting Function*"
      ]
    },
    {
      "cell_type": "code",
      "metadata": {
        "id": "y58iJ4Z0LiVN"
      },
      "source": [
        "#plot the graph of how training and validation cost changes with each iteration\r\n",
        "def plot (train_cost, valid_cost, lmbda):\r\n",
        "  plt.plot(train_cost,  label='training error')\r\n",
        "  plt.plot(valid_cost, label='validation error')\r\n",
        "  plt.title(f'Lambda {lmbda}')\r\n",
        "  plt.xlabel('Iterations')\r\n",
        "  plt.ylabel('MSE')\r\n",
        "  plt.legend()\r\n",
        "  plt.axis()\r\n",
        "  plt.show()"
      ],
      "execution_count": 14,
      "outputs": []
    },
    {
      "cell_type": "markdown",
      "metadata": {
        "id": "Y1HYrO06LOfr"
      },
      "source": [
        "## *Worldwide*"
      ]
    },
    {
      "cell_type": "code",
      "metadata": {
        "colab": {
          "base_uri": "https://localhost:8080/",
          "height": 295
        },
        "id": "CtunUMt-ofFL",
        "outputId": "397db32f-eecc-4d75-c847-085a2c041ec6"
      },
      "source": [
        "plot(train_cost_iter_world, valid_cost_iter_world, lmbda_world)"
      ],
      "execution_count": 15,
      "outputs": [
        {
          "output_type": "display_data",
          "data": {
            "image/png": "[encoded data removed]",
            "text/plain": [
              "<Figure size 432x288 with 1 Axes>"
            ]
          },
          "metadata": {
            "tags": [],
            "needs_background": "light"
          }
        }
      ]
    },
    {
      "cell_type": "markdown",
      "metadata": {
        "id": "M5X1eTFdMftJ"
      },
      "source": [
        "## *US*"
      ]
    },
    {
      "cell_type": "code",
      "metadata": {
        "colab": {
          "base_uri": "https://localhost:8080/",
          "height": 295
        },
        "id": "dlEXjK3kMhFZ",
        "outputId": "82ca28d4-8351-417b-d930-4756d13b2b90"
      },
      "source": [
        "plot(train_cost_iter_US, valid_cost_iter_US, lmbda_US)"
      ],
      "execution_count": 16,
      "outputs": [
        {
          "output_type": "display_data",
          "data": {
            "image/png": "[encoded data removed]",
            "text/plain": [
              "<Figure size 432x288 with 1 Axes>"
            ]
          },
          "metadata": {
            "tags": [],
            "needs_background": "light"
          }
        }
      ]
    },
    {
      "cell_type": "markdown",
      "metadata": {
        "id": "aigSDo2EooAO"
      },
      "source": [
        "# **Optimal Thetas**"
      ]
    },
    {
      "cell_type": "markdown",
      "metadata": {
        "id": "03FM7YxKNHRX"
      },
      "source": [
        "## *Worldwide*"
      ]
    },
    {
      "cell_type": "code",
      "metadata": {
        "colab": {
          "base_uri": "https://localhost:8080/"
        },
        "id": "SRBs5lsFop56",
        "outputId": "83f13645-bf2f-482d-e19a-232785f95457"
      },
      "source": [
        "print('The Optimal Thetas for the Worldwide Dataset are:')\r\n",
        "\r\n",
        "thetas=f'thetas'\r\n",
        "\r\n",
        "for layer in model_world.network:\r\n",
        "\r\n",
        "    if layer != f'layer{model_world.no_of_layers}':\r\n",
        "      \r\n",
        "      print(f'{layer}')\r\n",
        "      print(f'{model_world.network[layer][thetas]}')"
      ],
      "execution_count": 17,
      "outputs": [
        {
          "output_type": "stream",
          "text": [
            "The Optimal Thetas for the Worldwide Dataset are:\n",
            "layer1\n",
            "[[0.32799735 0.99706518 0.54608254 0.65058905 0.80004573 0.43057387]\n",
            " [1.08675656 0.82688933 0.71047115 0.37042483 1.02354338 1.01588517]\n",
            " [0.60150005 0.78264973 0.87106193 0.70470336 0.53804487 0.4314366 ]\n",
            " [0.38452969 0.21211353 0.7497386  0.62556321 0.1672801  0.31897397]\n",
            " [0.52676477 0.49461791 0.18140939 0.24892253 0.21903332 1.04608281]]\n",
            "layer2\n",
            "[[0.953138   1.30449229 0.51720485 1.09592136]\n",
            " [1.05251856 1.6956855  0.44791361 0.95842683]\n",
            " [1.6190002  1.60452356 0.85932185 1.41810701]\n",
            " [1.44264719 1.10686619 0.28703917 1.2957748 ]\n",
            " [1.31419272 1.13990613 0.85032351 0.51780276]\n",
            " [1.08878671 1.40601717 0.93227311 0.50232009]\n",
            " [0.79523408 1.49537856 0.96496559 0.98468761]]\n",
            "layer3\n",
            "[[16.76757668  9.9510781   7.65586708]\n",
            " [15.92172118 10.04788746  7.17046445]\n",
            " [14.45590585  8.86102893  7.00960315]\n",
            " [15.96577939  9.67604972  6.85118961]\n",
            " [16.22673396  9.43742737  7.01264265]]\n",
            "layer4\n",
            "[[364.04807708  58.14407978]\n",
            " [274.27599892  43.92948154]\n",
            " [279.8047426   44.78030354]\n",
            " [338.17679686  53.49477739]]\n",
            "layer5\n",
            "[[64143.21783645]\n",
            " [63374.77471187]\n",
            " [63690.14231861]]\n"
          ],
          "name": "stdout"
        }
      ]
    },
    {
      "cell_type": "markdown",
      "metadata": {
        "id": "U5DM-DKhN2em"
      },
      "source": [
        "## *US*"
      ]
    },
    {
      "cell_type": "code",
      "metadata": {
        "colab": {
          "base_uri": "https://localhost:8080/"
        },
        "id": "pXQ--RYnN3se",
        "outputId": "84eaf425-73bf-4179-d74b-3cac800d21fd"
      },
      "source": [
        "print('The Optimal Thetas for the US Dataset are:')\r\n",
        "\r\n",
        "for layer in model_US.network:\r\n",
        "\r\n",
        "    if layer != f'layer{model_US.no_of_layers}':\r\n",
        "      \r\n",
        "      print(f'{layer}')\r\n",
        "      print(f'{model_US.network[layer][thetas]}')"
      ],
      "execution_count": 18,
      "outputs": [
        {
          "output_type": "stream",
          "text": [
            "The Optimal Thetas for the US Dataset are:\n",
            "layer1\n",
            "[[5.50672521 4.28421629 5.93981205]\n",
            " [3.16924959 1.96090024 3.00732055]\n",
            " [2.4529272  2.12704676 2.63856483]\n",
            " [4.28675542 2.97087904 3.67973578]\n",
            " [1.69908553 0.87693472 2.30869377]\n",
            " [1.26619252 0.80908262 0.94914656]]\n",
            "layer2\n",
            "[[  8.28773372   9.56282877   5.02304155  10.27854097 748.55611822]\n",
            " [  6.45344512   7.78956985   4.19539659   9.50550224 742.19398188]\n",
            " [  7.38341903   8.23927978   4.37249346   9.54825588 745.72330976]\n",
            " [  6.95085091   8.19680174   4.03400651   9.59489694 741.78653477]]\n",
            "layer3\n",
            "[[3864.55784746]\n",
            " [3826.74199005]\n",
            " [3818.50948644]\n",
            " [3835.92995024]\n",
            " [3831.08081103]\n",
            " [3832.92989375]]\n"
          ],
          "name": "stdout"
        }
      ]
    },
    {
      "cell_type": "markdown",
      "metadata": {
        "id": "j7MCStWXoqmf"
      },
      "source": [
        "# **Saving Thetas and Metadata to File**"
      ]
    },
    {
      "cell_type": "markdown",
      "metadata": {
        "id": "tM0aUVnoPk-F"
      },
      "source": [
        "Store Model and Dataset properties required in the separate prediction code file"
      ]
    },
    {
      "cell_type": "markdown",
      "metadata": {
        "id": "-ms1dCJSOuoA"
      },
      "source": [
        "## *Worldwide*"
      ]
    },
    {
      "cell_type": "code",
      "metadata": {
        "id": "g0lFYIo5o0ac"
      },
      "source": [
        "# Save Model properties to special numpy file with extension (.npy) \r\n",
        "with open('/content/Optimal_thetas_of Neural_Network_with_Metadata_Worldwide.npy', 'wb') as file:\r\n",
        "\r\n",
        "  np.save(file, model_world.no_of_layers) # save number of layers\r\n",
        "\r\n",
        "  np.save(file, model_world.activation_fnt) # save activation function\r\n",
        "\r\n",
        "  for layer in model_world.network:\r\n",
        "\r\n",
        "    if layer != f'layer{model_world.no_of_layers}':\r\n",
        "\r\n",
        "      np.save(file, model_world.network[layer][thetas]) #save thetas of each layer"
      ],
      "execution_count": 19,
      "outputs": []
    },
    {
      "cell_type": "code",
      "metadata": {
        "id": "oRL9UGkhP3jC"
      },
      "source": [
        "#Append Data properties to the same numpy file\r\n",
        "with open('/content/Optimal_thetas_of Neural_Network_with_Metadata_Worldwide.npy', 'ab') as file:\r\n",
        "    \r\n",
        "    np.save(file, dataset_world.remove_cols) #save column names to be removed from the features\r\n",
        "    \r\n",
        "    np.save(file, dataset_world.scale) # Whether scaling is done on the dataset or not\r\n",
        "    \r\n",
        "    np.save(file, dataset_world.scale_type) #If scaling is done, which one is carried out\r\n",
        "    \r\n",
        "    np.save(file, dataset_world.min) #min value of features\r\n",
        "    \r\n",
        "    np.save(file, dataset_world.max)#max value of features"
      ],
      "execution_count": 20,
      "outputs": []
    },
    {
      "cell_type": "markdown",
      "metadata": {
        "id": "M1vqFwV-Sas2"
      },
      "source": [
        "## *US*"
      ]
    },
    {
      "cell_type": "code",
      "metadata": {
        "id": "A90Xpn4LSctV"
      },
      "source": [
        "# Save Model properties to special numpy file with extension (.npy) \r\n",
        "with open('/content/Optimal_thetas_of Neural_Network_with_Metadata_US.npy', 'wb') as file:\r\n",
        "\r\n",
        "  np.save(file, model_US.no_of_layers) # save number of layers\r\n",
        "\r\n",
        "  np.save(file, model_US.activation_fnt) # save activation function\r\n",
        "\r\n",
        "  for layer in model_US.network:\r\n",
        "\r\n",
        "    if layer != f'layer{model_US.no_of_layers}':\r\n",
        "\r\n",
        "      np.save(file, model_US.network[layer][thetas]) #save thetas of each layer"
      ],
      "execution_count": 21,
      "outputs": []
    },
    {
      "cell_type": "code",
      "metadata": {
        "id": "ufybxsR0Sc9W"
      },
      "source": [
        "#Append Data properties to the same numpy file\r\n",
        "with open('/content/Optimal_thetas_of Neural_Network_with_Metadata_US.npy', 'ab') as file:\r\n",
        "    \r\n",
        "    np.save(file, dataset_US.remove_cols) #save column names to be removed from the features\r\n",
        "    \r\n",
        "    np.save(file, dataset_US.scale) # Whether scaling is done on the dataset or not\r\n",
        "    \r\n",
        "    np.save(file, dataset_US.scale_type) #If scaling is done, which one is carried out\r\n",
        "    \r\n",
        "    np.save(file, dataset_US.min) #min value of features\r\n",
        "    \r\n",
        "    np.save(file, dataset_US.max)#max value of features"
      ],
      "execution_count": 22,
      "outputs": []
    },
    {
      "cell_type": "markdown",
      "metadata": {
        "id": "RZOOoht2o5VD"
      },
      "source": [
        "# **Mean Error on Train, Validation and Test set**"
      ]
    },
    {
      "cell_type": "markdown",
      "metadata": {
        "id": "mCdpgWm7ahZC"
      },
      "source": [
        "## *Prediction function*"
      ]
    },
    {
      "cell_type": "code",
      "metadata": {
        "id": "QtPL7ZHoo6IV"
      },
      "source": [
        "#Perform prediction on the test data\r\n",
        "def prediction(model, data):\r\n",
        " \r\n",
        "  #args:\r\n",
        "  #     model: object of class Network\r\n",
        "  #     data: (tuple) containing both X and Y as tuple e.g. (X, Y) \r\n",
        "  \r\n",
        "\r\n",
        "  #calculate output\r\n",
        "  model.forward_propagate(data[0])\r\n",
        "  predict= model.network[f'layer{model.no_of_layers}']['pred_outputs']\r\n",
        "  \r\n",
        "  #calculate cost\r\n",
        "  cost=model.MSE(model.network[f'layer{model.no_of_layers}']['pred_outputs'], data[1])\r\n",
        "\r\n",
        "  #Scatter plot between predicted and actual values  \r\n",
        "  plt.plot(predict, 'ro', label='predicted')\r\n",
        "  plt.plot(data[1],'bo', label='actual')\r\n",
        "  plt.title(\"Predicted vs Actual\")\r\n",
        "  plt.legend()\r\n",
        "  plt.axis()\r\n",
        "  plt.show()  \r\n",
        "\r\n",
        "  return (predict, cost)"
      ],
      "execution_count": 23,
      "outputs": []
    },
    {
      "cell_type": "markdown",
      "metadata": {
        "id": "LAMShiZ1UJ6B"
      },
      "source": [
        "## *Worldwide*"
      ]
    },
    {
      "cell_type": "markdown",
      "metadata": {
        "id": "7JTMxR9I7hu2"
      },
      "source": [
        "### Mean Error on Training Dataset"
      ]
    },
    {
      "cell_type": "code",
      "metadata": {
        "colab": {
          "base_uri": "https://localhost:8080/",
          "height": 298
        },
        "id": "Y4TwLWoeUMNU",
        "outputId": "bee095a3-cde1-4db9-c0e0-0b5b150250ae"
      },
      "source": [
        "_, train_cost_world=prediction(model_world, train_data_world)\r\n",
        "print(f'Cost on the train data is:{train_cost_world}')"
      ],
      "execution_count": 24,
      "outputs": [
        {
          "output_type": "display_data",
          "data": {
            "image/png": "[encoded data removed]",
            "text/plain": [
              "<Figure size 432x288 with 1 Axes>"
            ]
          },
          "metadata": {
            "tags": [],
            "needs_background": "light"
          }
        },
        {
          "output_type": "stream",
          "text": [
            "Cost on the train data is:25732209397.63206\n"
          ],
          "name": "stdout"
        }
      ]
    },
    {
      "cell_type": "markdown",
      "metadata": {
        "id": "_96jukFD7rmQ"
      },
      "source": [
        "### Mean Error on Validation Dataset"
      ]
    },
    {
      "cell_type": "code",
      "metadata": {
        "colab": {
          "base_uri": "https://localhost:8080/",
          "height": 298
        },
        "id": "U5mfKkkv7RRC",
        "outputId": "9d5cb1d0-d28c-4260-ec9c-50d78c508597"
      },
      "source": [
        "_, valid_cost_world=prediction(model_world, valid_data_world)\r\n",
        "print(f'Cost on the validation data is:{valid_cost_world}')"
      ],
      "execution_count": 25,
      "outputs": [
        {
          "output_type": "display_data",
          "data": {
            "image/png": "[encoded data removed]",
            "text/plain": [
              "<Figure size 432x288 with 1 Axes>"
            ]
          },
          "metadata": {
            "tags": [],
            "needs_background": "light"
          }
        },
        {
          "output_type": "stream",
          "text": [
            "Cost on the validation data is:20134309996.596268\n"
          ],
          "name": "stdout"
        }
      ]
    },
    {
      "cell_type": "markdown",
      "metadata": {
        "id": "91YY1a8076Pn"
      },
      "source": [
        "### Mean Error on Test Dataset"
      ]
    },
    {
      "cell_type": "code",
      "metadata": {
        "colab": {
          "base_uri": "https://localhost:8080/",
          "height": 298
        },
        "id": "qJV2VC5k7REh",
        "outputId": "d3f146c1-3220-45df-a2a1-7261106e5bba"
      },
      "source": [
        "_, test_cost_world=prediction(model_world, test_data_world)\r\n",
        "print(f'Cost on the test data is:{test_cost_world}')"
      ],
      "execution_count": 26,
      "outputs": [
        {
          "output_type": "display_data",
          "data": {
            "image/png": "[encoded data removed]",
            "text/plain": [
              "<Figure size 432x288 with 1 Axes>"
            ]
          },
          "metadata": {
            "tags": [],
            "needs_background": "light"
          }
        },
        {
          "output_type": "stream",
          "text": [
            "Cost on the test data is:20433292389.27617\n"
          ],
          "name": "stdout"
        }
      ]
    },
    {
      "cell_type": "markdown",
      "metadata": {
        "id": "X5_BfwLWU35-"
      },
      "source": [
        "## *US*"
      ]
    },
    {
      "cell_type": "markdown",
      "metadata": {
        "id": "ZliVko-c8JoR"
      },
      "source": [
        "### Mean Error on Training Dataset"
      ]
    },
    {
      "cell_type": "code",
      "metadata": {
        "colab": {
          "base_uri": "https://localhost:8080/",
          "height": 298
        },
        "id": "9BKq1rmSVDb0",
        "outputId": "1cc92e6b-457a-4f88-8ba4-faa9657fc4d3"
      },
      "source": [
        "_, train_cost_US=prediction(model_US, train_data_US)\r\n",
        "print(f'Cost on the training data is:{train_cost_US}')"
      ],
      "execution_count": 27,
      "outputs": [
        {
          "output_type": "display_data",
          "data": {
            "image/png": "[encoded data removed]",
            "text/plain": [
              "<Figure size 432x288 with 1 Axes>"
            ]
          },
          "metadata": {
            "tags": [],
            "needs_background": "light"
          }
        },
        {
          "output_type": "stream",
          "text": [
            "Cost on the training data is:792779546.2609148\n"
          ],
          "name": "stdout"
        }
      ]
    },
    {
      "cell_type": "markdown",
      "metadata": {
        "id": "0lGAhs6n9KdE"
      },
      "source": [
        "### Mean Error on Validation Dataset"
      ]
    },
    {
      "cell_type": "code",
      "metadata": {
        "colab": {
          "base_uri": "https://localhost:8080/",
          "height": 298
        },
        "id": "QRqdu14g9Qfc",
        "outputId": "5ed3923e-9cfb-434d-b027-78ecb68d11c0"
      },
      "source": [
        "_, valid_cost_US=prediction(model_US, valid_data_US)\r\n",
        "print(f'Cost on the validation data is:{valid_cost_US}')"
      ],
      "execution_count": 28,
      "outputs": [
        {
          "output_type": "display_data",
          "data": {
            "image/png": "[encoded data removed]",
            "text/plain": [
              "<Figure size 432x288 with 1 Axes>"
            ]
          },
          "metadata": {
            "tags": [],
            "needs_background": "light"
          }
        },
        {
          "output_type": "stream",
          "text": [
            "Cost on the validation data is:306393299.9234915\n"
          ],
          "name": "stdout"
        }
      ]
    },
    {
      "cell_type": "markdown",
      "metadata": {
        "id": "Ksp9l4SK9KO9"
      },
      "source": [
        "### Mean Error on Test Dataset"
      ]
    },
    {
      "cell_type": "code",
      "metadata": {
        "colab": {
          "base_uri": "https://localhost:8080/",
          "height": 298
        },
        "id": "9MHvi2ZK9W_5",
        "outputId": "24351d06-47a1-43dd-b03c-9c95599b7563"
      },
      "source": [
        "_, test_cost_US=prediction(model_US, test_data_US)\r\n",
        "print(f'Cost on the test data is:{test_cost_US}')"
      ],
      "execution_count": 29,
      "outputs": [
        {
          "output_type": "display_data",
          "data": {
            "image/png": "[encoded data removed]",
            "text/plain": [
              "<Figure size 432x288 with 1 Axes>"
            ]
          },
          "metadata": {
            "tags": [],
            "needs_background": "light"
          }
        },
        {
          "output_type": "stream",
          "text": [
            "Cost on the test data is:973834710.23216\n"
          ],
          "name": "stdout"
        }
      ]
    }
  ]
}